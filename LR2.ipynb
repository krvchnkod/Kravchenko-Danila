{
 "cells": [
  {
   "attachments": {},
   "cell_type": "markdown",
   "metadata": {},
   "source": [
    "# Лабораторная работа 2.\n",
    "### Вариант 1\n",
    "\n",
    "Работа выполнена студентом группы М1О-415Бки-19 Кравченко Д.В."
   ]
  },
  {
   "attachments": {},
   "cell_type": "markdown",
   "metadata": {},
   "source": [
    "# Подготовка данных\n",
    "## Загрузка датасета из файла"
   ]
  },
  {
   "cell_type": "code",
   "execution_count": 1,
   "metadata": {},
   "outputs": [],
   "source": [
    "import pandas as pd\n",
    "import numpy as np\n",
    "from matplotlib import pyplot as plt\n",
    "import pickle\n",
    "\n",
    "dataset = pd.read_csv(\"datasets/breast_cancer.csv\")\n",
    "dataset = dataset.dropna(axis=1)\n",
    "labels = dataset.pop('diagnosis').astype('category').cat.codes"
   ]
  },
  {
   "attachments": {},
   "cell_type": "markdown",
   "metadata": {},
   "source": [
    "## Разделение на тестовую и обучающую выборки"
   ]
  },
  {
   "cell_type": "code",
   "execution_count": 2,
   "metadata": {},
   "outputs": [
    {
     "name": "stdout",
     "output_type": "stream",
     "text": [
      "Train set size:\t455\n",
      "Test set size:\t114\n"
     ]
    }
   ],
   "source": [
    "from sklearn.model_selection import StratifiedShuffleSplit\n",
    "\n",
    "seed = 1989\n",
    "sss = StratifiedShuffleSplit(n_splits=1, test_size=0.2, random_state=seed)\n",
    "\n",
    "for train, test in sss.split(dataset, labels):\n",
    "    pass\n",
    "\n",
    "print(f'Train set size:\\t{len(train)}\\nTest set size:\\t{len(test)}')\n"
   ]
  },
  {
   "attachments": {},
   "cell_type": "markdown",
   "metadata": {},
   "source": [
    "## Предобработка данных"
   ]
  },
  {
   "cell_type": "code",
   "execution_count": 3,
   "metadata": {},
   "outputs": [
    {
     "data": {
      "text/html": [
       "<style>#sk-container-id-1 {color: black;background-color: white;}#sk-container-id-1 pre{padding: 0;}#sk-container-id-1 div.sk-toggleable {background-color: white;}#sk-container-id-1 label.sk-toggleable__label {cursor: pointer;display: block;width: 100%;margin-bottom: 0;padding: 0.3em;box-sizing: border-box;text-align: center;}#sk-container-id-1 label.sk-toggleable__label-arrow:before {content: \"▸\";float: left;margin-right: 0.25em;color: #696969;}#sk-container-id-1 label.sk-toggleable__label-arrow:hover:before {color: black;}#sk-container-id-1 div.sk-estimator:hover label.sk-toggleable__label-arrow:before {color: black;}#sk-container-id-1 div.sk-toggleable__content {max-height: 0;max-width: 0;overflow: hidden;text-align: left;background-color: #f0f8ff;}#sk-container-id-1 div.sk-toggleable__content pre {margin: 0.2em;color: black;border-radius: 0.25em;background-color: #f0f8ff;}#sk-container-id-1 input.sk-toggleable__control:checked~div.sk-toggleable__content {max-height: 200px;max-width: 100%;overflow: auto;}#sk-container-id-1 input.sk-toggleable__control:checked~label.sk-toggleable__label-arrow:before {content: \"▾\";}#sk-container-id-1 div.sk-estimator input.sk-toggleable__control:checked~label.sk-toggleable__label {background-color: #d4ebff;}#sk-container-id-1 div.sk-label input.sk-toggleable__control:checked~label.sk-toggleable__label {background-color: #d4ebff;}#sk-container-id-1 input.sk-hidden--visually {border: 0;clip: rect(1px 1px 1px 1px);clip: rect(1px, 1px, 1px, 1px);height: 1px;margin: -1px;overflow: hidden;padding: 0;position: absolute;width: 1px;}#sk-container-id-1 div.sk-estimator {font-family: monospace;background-color: #f0f8ff;border: 1px dotted black;border-radius: 0.25em;box-sizing: border-box;margin-bottom: 0.5em;}#sk-container-id-1 div.sk-estimator:hover {background-color: #d4ebff;}#sk-container-id-1 div.sk-parallel-item::after {content: \"\";width: 100%;border-bottom: 1px solid gray;flex-grow: 1;}#sk-container-id-1 div.sk-label:hover label.sk-toggleable__label {background-color: #d4ebff;}#sk-container-id-1 div.sk-serial::before {content: \"\";position: absolute;border-left: 1px solid gray;box-sizing: border-box;top: 0;bottom: 0;left: 50%;z-index: 0;}#sk-container-id-1 div.sk-serial {display: flex;flex-direction: column;align-items: center;background-color: white;padding-right: 0.2em;padding-left: 0.2em;position: relative;}#sk-container-id-1 div.sk-item {position: relative;z-index: 1;}#sk-container-id-1 div.sk-parallel {display: flex;align-items: stretch;justify-content: center;background-color: white;position: relative;}#sk-container-id-1 div.sk-item::before, #sk-container-id-1 div.sk-parallel-item::before {content: \"\";position: absolute;border-left: 1px solid gray;box-sizing: border-box;top: 0;bottom: 0;left: 50%;z-index: -1;}#sk-container-id-1 div.sk-parallel-item {display: flex;flex-direction: column;z-index: 1;position: relative;background-color: white;}#sk-container-id-1 div.sk-parallel-item:first-child::after {align-self: flex-end;width: 50%;}#sk-container-id-1 div.sk-parallel-item:last-child::after {align-self: flex-start;width: 50%;}#sk-container-id-1 div.sk-parallel-item:only-child::after {width: 0;}#sk-container-id-1 div.sk-dashed-wrapped {border: 1px dashed gray;margin: 0 0.4em 0.5em 0.4em;box-sizing: border-box;padding-bottom: 0.4em;background-color: white;}#sk-container-id-1 div.sk-label label {font-family: monospace;font-weight: bold;display: inline-block;line-height: 1.2em;}#sk-container-id-1 div.sk-label-container {text-align: center;}#sk-container-id-1 div.sk-container {/* jupyter's `normalize.less` sets `[hidden] { display: none; }` but bootstrap.min.css set `[hidden] { display: none !important; }` so we also need the `!important` here to be able to override the default hidden behavior on the sphinx rendered scikit-learn.org. See: https://github.com/scikit-learn/scikit-learn/issues/21755 */display: inline-block !important;position: relative;}#sk-container-id-1 div.sk-text-repr-fallback {display: none;}</style><div id=\"sk-container-id-1\" class=\"sk-top-container\"><div class=\"sk-text-repr-fallback\"><pre>ColumnTransformer(transformers=[(&#x27;id&#x27;, &#x27;drop&#x27;, [&#x27;id&#x27;]),\n",
       "                                (&#x27;num&#x27;, StandardScaler(),\n",
       "                                 [&#x27;radius_mean&#x27;, &#x27;texture_mean&#x27;,\n",
       "                                  &#x27;perimeter_mean&#x27;, &#x27;area_mean&#x27;,\n",
       "                                  &#x27;smoothness_mean&#x27;, &#x27;compactness_mean&#x27;,\n",
       "                                  &#x27;concavity_mean&#x27;, &#x27;concave points_mean&#x27;,\n",
       "                                  &#x27;symmetry_mean&#x27;, &#x27;fractal_dimension_mean&#x27;,\n",
       "                                  &#x27;radius_se&#x27;, &#x27;texture_se&#x27;, &#x27;perimeter_se&#x27;,\n",
       "                                  &#x27;area_se&#x27;, &#x27;smoothness_se&#x27;, &#x27;compactness_se&#x27;,\n",
       "                                  &#x27;concavity_se&#x27;, &#x27;concave points_se&#x27;,\n",
       "                                  &#x27;symmetry_se&#x27;, &#x27;fractal_dimension_se&#x27;,\n",
       "                                  &#x27;radius_worst&#x27;, &#x27;texture_worst&#x27;,\n",
       "                                  &#x27;perimeter_worst&#x27;, &#x27;area_worst&#x27;,\n",
       "                                  &#x27;smoothness_worst&#x27;, &#x27;compactness_worst&#x27;,\n",
       "                                  &#x27;concavity_worst&#x27;, &#x27;concave points_worst&#x27;,\n",
       "                                  &#x27;symmetry_worst&#x27;,\n",
       "                                  &#x27;fractal_dimension_worst&#x27;])],\n",
       "                  verbose_feature_names_out=False)</pre><b>In a Jupyter environment, please rerun this cell to show the HTML representation or trust the notebook. <br />On GitHub, the HTML representation is unable to render, please try loading this page with nbviewer.org.</b></div><div class=\"sk-container\" hidden><div class=\"sk-item sk-dashed-wrapped\"><div class=\"sk-label-container\"><div class=\"sk-label sk-toggleable\"><input class=\"sk-toggleable__control sk-hidden--visually\" id=\"sk-estimator-id-1\" type=\"checkbox\" ><label for=\"sk-estimator-id-1\" class=\"sk-toggleable__label sk-toggleable__label-arrow\">ColumnTransformer</label><div class=\"sk-toggleable__content\"><pre>ColumnTransformer(transformers=[(&#x27;id&#x27;, &#x27;drop&#x27;, [&#x27;id&#x27;]),\n",
       "                                (&#x27;num&#x27;, StandardScaler(),\n",
       "                                 [&#x27;radius_mean&#x27;, &#x27;texture_mean&#x27;,\n",
       "                                  &#x27;perimeter_mean&#x27;, &#x27;area_mean&#x27;,\n",
       "                                  &#x27;smoothness_mean&#x27;, &#x27;compactness_mean&#x27;,\n",
       "                                  &#x27;concavity_mean&#x27;, &#x27;concave points_mean&#x27;,\n",
       "                                  &#x27;symmetry_mean&#x27;, &#x27;fractal_dimension_mean&#x27;,\n",
       "                                  &#x27;radius_se&#x27;, &#x27;texture_se&#x27;, &#x27;perimeter_se&#x27;,\n",
       "                                  &#x27;area_se&#x27;, &#x27;smoothness_se&#x27;, &#x27;compactness_se&#x27;,\n",
       "                                  &#x27;concavity_se&#x27;, &#x27;concave points_se&#x27;,\n",
       "                                  &#x27;symmetry_se&#x27;, &#x27;fractal_dimension_se&#x27;,\n",
       "                                  &#x27;radius_worst&#x27;, &#x27;texture_worst&#x27;,\n",
       "                                  &#x27;perimeter_worst&#x27;, &#x27;area_worst&#x27;,\n",
       "                                  &#x27;smoothness_worst&#x27;, &#x27;compactness_worst&#x27;,\n",
       "                                  &#x27;concavity_worst&#x27;, &#x27;concave points_worst&#x27;,\n",
       "                                  &#x27;symmetry_worst&#x27;,\n",
       "                                  &#x27;fractal_dimension_worst&#x27;])],\n",
       "                  verbose_feature_names_out=False)</pre></div></div></div><div class=\"sk-parallel\"><div class=\"sk-parallel-item\"><div class=\"sk-item\"><div class=\"sk-label-container\"><div class=\"sk-label sk-toggleable\"><input class=\"sk-toggleable__control sk-hidden--visually\" id=\"sk-estimator-id-2\" type=\"checkbox\" ><label for=\"sk-estimator-id-2\" class=\"sk-toggleable__label sk-toggleable__label-arrow\">id</label><div class=\"sk-toggleable__content\"><pre>[&#x27;id&#x27;]</pre></div></div></div><div class=\"sk-serial\"><div class=\"sk-item\"><div class=\"sk-estimator sk-toggleable\"><input class=\"sk-toggleable__control sk-hidden--visually\" id=\"sk-estimator-id-3\" type=\"checkbox\" ><label for=\"sk-estimator-id-3\" class=\"sk-toggleable__label sk-toggleable__label-arrow\">drop</label><div class=\"sk-toggleable__content\"><pre>drop</pre></div></div></div></div></div></div><div class=\"sk-parallel-item\"><div class=\"sk-item\"><div class=\"sk-label-container\"><div class=\"sk-label sk-toggleable\"><input class=\"sk-toggleable__control sk-hidden--visually\" id=\"sk-estimator-id-4\" type=\"checkbox\" ><label for=\"sk-estimator-id-4\" class=\"sk-toggleable__label sk-toggleable__label-arrow\">num</label><div class=\"sk-toggleable__content\"><pre>[&#x27;radius_mean&#x27;, &#x27;texture_mean&#x27;, &#x27;perimeter_mean&#x27;, &#x27;area_mean&#x27;, &#x27;smoothness_mean&#x27;, &#x27;compactness_mean&#x27;, &#x27;concavity_mean&#x27;, &#x27;concave points_mean&#x27;, &#x27;symmetry_mean&#x27;, &#x27;fractal_dimension_mean&#x27;, &#x27;radius_se&#x27;, &#x27;texture_se&#x27;, &#x27;perimeter_se&#x27;, &#x27;area_se&#x27;, &#x27;smoothness_se&#x27;, &#x27;compactness_se&#x27;, &#x27;concavity_se&#x27;, &#x27;concave points_se&#x27;, &#x27;symmetry_se&#x27;, &#x27;fractal_dimension_se&#x27;, &#x27;radius_worst&#x27;, &#x27;texture_worst&#x27;, &#x27;perimeter_worst&#x27;, &#x27;area_worst&#x27;, &#x27;smoothness_worst&#x27;, &#x27;compactness_worst&#x27;, &#x27;concavity_worst&#x27;, &#x27;concave points_worst&#x27;, &#x27;symmetry_worst&#x27;, &#x27;fractal_dimension_worst&#x27;]</pre></div></div></div><div class=\"sk-serial\"><div class=\"sk-item\"><div class=\"sk-estimator sk-toggleable\"><input class=\"sk-toggleable__control sk-hidden--visually\" id=\"sk-estimator-id-5\" type=\"checkbox\" ><label for=\"sk-estimator-id-5\" class=\"sk-toggleable__label sk-toggleable__label-arrow\">StandardScaler</label><div class=\"sk-toggleable__content\"><pre>StandardScaler()</pre></div></div></div></div></div></div></div></div></div></div>"
      ],
      "text/plain": [
       "ColumnTransformer(transformers=[('id', 'drop', ['id']),\n",
       "                                ('num', StandardScaler(),\n",
       "                                 ['radius_mean', 'texture_mean',\n",
       "                                  'perimeter_mean', 'area_mean',\n",
       "                                  'smoothness_mean', 'compactness_mean',\n",
       "                                  'concavity_mean', 'concave points_mean',\n",
       "                                  'symmetry_mean', 'fractal_dimension_mean',\n",
       "                                  'radius_se', 'texture_se', 'perimeter_se',\n",
       "                                  'area_se', 'smoothness_se', 'compactness_se',\n",
       "                                  'concavity_se', 'concave points_se',\n",
       "                                  'symmetry_se', 'fractal_dimension_se',\n",
       "                                  'radius_worst', 'texture_worst',\n",
       "                                  'perimeter_worst', 'area_worst',\n",
       "                                  'smoothness_worst', 'compactness_worst',\n",
       "                                  'concavity_worst', 'concave points_worst',\n",
       "                                  'symmetry_worst',\n",
       "                                  'fractal_dimension_worst'])],\n",
       "                  verbose_feature_names_out=False)"
      ]
     },
     "execution_count": 3,
     "metadata": {},
     "output_type": "execute_result"
    }
   ],
   "source": [
    "from sklearn.preprocessing import OrdinalEncoder, StandardScaler\n",
    "from sklearn.impute import SimpleImputer\n",
    "from sklearn.compose import ColumnTransformer\n",
    "from sklearn.pipeline import Pipeline\n",
    "\n",
    "id_col = ['id']\n",
    "num_cols = [col for col in dataset.columns if col not in id_col]\n",
    "\n",
    "numeric_transformer = StandardScaler()\n",
    "id_transformer = 'drop'\n",
    "\n",
    "preprocessor = ColumnTransformer(\n",
    "    transformers=[\n",
    "        (\"id\", id_transformer, id_col),\n",
    "        (\"num\", numeric_transformer, num_cols)\n",
    "    ],\n",
    "    verbose_feature_names_out = False\n",
    ")\n",
    "preprocessor.set_output(transform='pandas')"
   ]
  },
  {
   "attachments": {},
   "cell_type": "markdown",
   "metadata": {},
   "source": [
    "# Обучение и оценка моделей"
   ]
  },
  {
   "cell_type": "code",
   "execution_count": 4,
   "metadata": {},
   "outputs": [],
   "source": [
    "from sklearn.model_selection import RandomizedSearchCV, GridSearchCV\n",
    "from sklearn.metrics import confusion_matrix, accuracy_score, recall_score, precision_score, roc_auc_score\n",
    "from warnings import simplefilter\n",
    "from sklearn.exceptions import ConvergenceWarning\n",
    "simplefilter(\"ignore\", category=ConvergenceWarning)\n",
    "\n",
    "X_test = dataset.iloc[test]\n",
    "y_test = labels.iloc[test]\n",
    "\n",
    "X_train = dataset.iloc[train]\n",
    "y_train = labels.iloc[train]\n",
    "\n",
    "\n",
    "def fit_and_score(model, X_train, y_train, name):\n",
    "\n",
    "    model.fit(X_train, y_train)\n",
    "\n",
    "    with open(f\"models/{name}.pkl\", \"wb\") as f:\n",
    "        pickle.dump(model, f, protocol=3)\n",
    "    with open(f\"models/{name}_params.txt\", \"w\") as f:\n",
    "        f.write(str(model.best_params_))\n",
    "\n",
    "    print(model.best_params_, '\\n' + '=' * 20)\n",
    "\n",
    "    y_pred = model.predict(X_test)\n",
    "    y_true = np.array(y_test)\n",
    "\n",
    "    print(  f'Confusion matrix:\\n {confusion_matrix(y_true, y_pred)}\\n\\n'\n",
    "        f'Accuracy:\\t{accuracy_score(y_true, y_pred)}\\n'\n",
    "        f'Recall:\\t\\t{recall_score(y_true, y_pred)}\\n'\n",
    "        f'Precision:\\t{precision_score(y_true, y_pred)}\\n'\n",
    "        f'ROC AUC Curve:\\t{roc_auc_score(y_true, y_pred)}\\n'\n",
    "        )"
   ]
  },
  {
   "attachments": {},
   "cell_type": "markdown",
   "metadata": {},
   "source": [
    "## Логистическая регрессия"
   ]
  },
  {
   "cell_type": "code",
   "execution_count": 5,
   "metadata": {},
   "outputs": [
    {
     "name": "stdout",
     "output_type": "stream",
     "text": [
      "{'clf__C': 1, 'clf__penalty': 'l2', 'clf__solver': 'liblinear'} \n",
      "====================\n",
      "Confusion matrix:\n",
      " [[70  2]\n",
      " [ 2 40]]\n",
      "\n",
      "Accuracy:\t0.9649122807017544\n",
      "Recall:\t\t0.9523809523809523\n",
      "Precision:\t0.9523809523809523\n",
      "ROC AUC Curve:\t0.9623015873015873\n",
      "\n"
     ]
    }
   ],
   "source": [
    "from sklearn.linear_model import LogisticRegression\n",
    "\n",
    "log = LogisticRegression(max_iter=250)\n",
    "\n",
    "log_pipeline = Pipeline([\n",
    "    ('preprocess', preprocessor),\n",
    "    ('clf', log)\n",
    "])\n",
    "\n",
    "parameters = [\n",
    "    {'clf__C': [1, 10], 'clf__solver': ('lbfgs', 'newton-cg', 'newton-cholesky', 'sag'), 'clf__penalty': ['l2']},\n",
    "    {'clf__C': [1, 10], 'clf__solver': ['liblinear'], 'clf__penalty': ('l1', 'l2')},\n",
    "    {'clf__C': [1, 10], 'clf__solver': ['saga'], 'clf__penalty': ('l1', 'l2')},\n",
    "    {'clf__C': [1, 10], 'clf__solver': ['saga'], 'clf__penalty': ['elasticnet'], 'clf__l1_ratio': [0.1, 0.9]} \n",
    "]\n",
    "\n",
    "log_model = GridSearchCV(log_pipeline, parameters)\n",
    "\n",
    "fit_and_score(log_model, X_train, y_train, 'logistic')"
   ]
  },
  {
   "attachments": {},
   "cell_type": "markdown",
   "metadata": {},
   "source": [
    "## SVM"
   ]
  },
  {
   "cell_type": "code",
   "execution_count": 9,
   "metadata": {},
   "outputs": [
    {
     "name": "stdout",
     "output_type": "stream",
     "text": [
      "{'clf__C': 1, 'clf__coef0': -1.0, 'clf__degree': 1, 'clf__gamma': 'scale', 'clf__kernel': 'poly'} \n",
      "====================\n",
      "Confusion matrix:\n",
      " [[71  1]\n",
      " [ 2 40]]\n",
      "\n",
      "Accuracy:\t0.9736842105263158\n",
      "Recall:\t\t0.9523809523809523\n",
      "Precision:\t0.975609756097561\n",
      "ROC AUC Curve:\t0.9692460317460317\n",
      "\n"
     ]
    }
   ],
   "source": [
    "from sklearn.svm import SVC\n",
    "\n",
    "svm = SVC()\n",
    "\n",
    "svm_pipeline = Pipeline([\n",
    "    ('preprocess', preprocessor),\n",
    "    ('clf', svm)\n",
    "])\n",
    "\n",
    "parameters = [\n",
    "    {'clf__C': [1, 10], 'clf__kernel': ['poly'], 'clf__degree': [1,8], 'clf__gamma': ('scale', 'auto'), 'clf__coef0': [-1.0, 1.0]},\n",
    "    {'clf__C': [1, 10], 'clf__kernel': ['poly'], 'clf__degree': [1,8], 'clf__gamma': [0, 20], 'clf__coef0': [-1.0, 1.0]},\n",
    "    {'clf__C': [1, 10], 'clf__kernel': ['sigmoid'], 'clf__gamma': ('scale', 'auto'), 'clf__coef0': [-1.0, 1.0]},\n",
    "    {'clf__C': [1, 10], 'clf__kernel': ['sigmoid'], 'clf__gamma': [0, 20], 'clf__coef0': [-1.0, 1.0]},\n",
    "    {'clf__C': [1, 10], 'clf__kernel': ['rbf'], 'clf__gamma': ('scale', 'auto')},\n",
    "    {'clf__C': [1, 10], 'clf__kernel': ['rbf'], 'clf__gamma': [0, 20]},\n",
    "    {'clf__C': [1, 10], 'clf__kernel': ['linear'],}\n",
    "]\n",
    "\n",
    "svm_model = GridSearchCV(svm_pipeline, parameters)\n",
    "\n",
    "fit_and_score(svm_model, X_train, y_train, 'svm')\n"
   ]
  },
  {
   "attachments": {},
   "cell_type": "markdown",
   "metadata": {},
   "source": [
    "## KNN"
   ]
  },
  {
   "cell_type": "code",
   "execution_count": 14,
   "metadata": {},
   "outputs": [
    {
     "name": "stdout",
     "output_type": "stream",
     "text": [
      "{'clf__algorithm': 'ball_tree', 'clf__leaf_size': 10, 'clf__n_neighbors': 12, 'clf__p': 2, 'clf__weights': 'distance'} \n",
      "====================\n",
      "Confusion matrix:\n",
      " [[70  2]\n",
      " [ 4 38]]\n",
      "\n",
      "Accuracy:\t0.9473684210526315\n",
      "Recall:\t\t0.9047619047619048\n",
      "Precision:\t0.95\n",
      "ROC AUC Curve:\t0.9384920634920634\n",
      "\n"
     ]
    }
   ],
   "source": [
    "from sklearn.neighbors import KNeighborsClassifier\n",
    "\n",
    "knn = KNeighborsClassifier()\n",
    "\n",
    "knn_pipeline = Pipeline([\n",
    "    ('preprocess', preprocessor),\n",
    "    ('clf', knn)\n",
    "])\n",
    "\n",
    "parameters = [\n",
    "    {'clf__n_neighbors': [3, 12], 'clf__weights': ('uniform', 'distance'), 'clf__algorithm': ('ball_tree', 'kd_tree'), \n",
    "        'clf__leaf_size': [10, 60], 'clf__p': [1,2]},\n",
    "    {'clf__n_neighbors': [3, 12], 'clf__weights': ('uniform', 'distance'), 'clf__algorithm': ['brute'], 'clf__p': [1,2]},\n",
    "]\n",
    "\n",
    "knn_model = GridSearchCV(knn_pipeline, parameters)\n",
    "\n",
    "fit_and_score(knn_model, X_train, y_train, 'knn')"
   ]
  },
  {
   "attachments": {},
   "cell_type": "markdown",
   "metadata": {},
   "source": [
    "## Наивный байесовский классификатор"
   ]
  },
  {
   "cell_type": "code",
   "execution_count": 21,
   "metadata": {},
   "outputs": [
    {
     "name": "stdout",
     "output_type": "stream",
     "text": [
      "{'clf__var_smoothing': 1e-10} \n",
      "====================\n",
      "Confusion matrix:\n",
      " [[67  5]\n",
      " [ 6 36]]\n",
      "\n",
      "Accuracy:\t0.9035087719298246\n",
      "Recall:\t\t0.8571428571428571\n",
      "Precision:\t0.8780487804878049\n",
      "ROC AUC Curve:\t0.8938492063492064\n",
      "\n"
     ]
    }
   ],
   "source": [
    "from sklearn.naive_bayes import GaussianNB\n",
    "\n",
    "bay = GaussianNB()\n",
    "\n",
    "bay_pipeline = Pipeline([\n",
    "    ('preprocess', preprocessor),\n",
    "    ('clf', bay)\n",
    "])\n",
    "\n",
    "parameters = [\n",
    "    {'clf__var_smoothing': [1e-10, 1.0]}\n",
    "]\n",
    "\n",
    "bay_model = GridSearchCV(bay_pipeline, parameters)\n",
    "\n",
    "fit_and_score(bay_model, X_train, y_train, 'bayes')"
   ]
  },
  {
   "attachments": {},
   "cell_type": "markdown",
   "metadata": {},
   "source": [
    "## Случайный лес"
   ]
  },
  {
   "cell_type": "code",
   "execution_count": 30,
   "metadata": {},
   "outputs": [
    {
     "name": "stdout",
     "output_type": "stream",
     "text": [
      "{'clf__ccp_alpha': 0.0, 'clf__criterion': 'entropy', 'clf__max_features': 'log2', 'clf__min_impurity_decrease': 0.0, 'clf__min_samples_leaf': 4, 'clf__min_samples_split': 5, 'clf__min_weight_fraction_leaf': 0.0, 'clf__n_estimators': 60} \n",
      "====================\n",
      "Confusion matrix:\n",
      " [[71  1]\n",
      " [ 5 37]]\n",
      "\n",
      "Accuracy:\t0.9473684210526315\n",
      "Recall:\t\t0.8809523809523809\n",
      "Precision:\t0.9736842105263158\n",
      "ROC AUC Curve:\t0.933531746031746\n",
      "\n"
     ]
    }
   ],
   "source": [
    "from sklearn.ensemble import RandomForestClassifier\n",
    "from sklearn.experimental import enable_halving_search_cv\n",
    "from sklearn.model_selection import HalvingGridSearchCV\n",
    "\n",
    "forest = RandomForestClassifier()\n",
    "\n",
    "forest_pipeline = Pipeline([\n",
    "    ('preprocess', preprocessor),\n",
    "    ('clf', forest)\n",
    "])\n",
    "\n",
    "parameters = [\n",
    "    {'clf__n_estimators': [60, 140], 'clf__criterion': ('gini', 'entropy', 'log_loss'), 'clf__min_samples_split': [1, 5], \n",
    "     'clf__min_samples_leaf': [2, 4], 'clf__min_weight_fraction_leaf': [0.0, 0.1], 'clf__max_features': ('sqrt', 'log2', None),\n",
    "     'clf__min_impurity_decrease': [0.0, 0.1], 'clf__ccp_alpha':[0.0, 0.2]}\n",
    "]\n",
    "\n",
    "forest_model = HalvingGridSearchCV(forest_pipeline, parameters, n_jobs=-1)\n",
    "\n",
    "fit_and_score(forest_model, X_train, y_train, 'randforest')"
   ]
  },
  {
   "attachments": {},
   "cell_type": "markdown",
   "metadata": {},
   "source": [
    "# Итоги\n",
    "|              | Accuracy | Recall | Precision | ROC AUC Curve |\n",
    "|--------------|----------|--------|-----------|---------------|\n",
    "| Лог. регр-я  | 0.965    | 0.952  | 0.952     | 0.962         |\n",
    "| SVM          | 0.974    | 0.952  | 0.976     | 0.969         |\n",
    "| KNN          | 0.947    | 0.905  | 0.950     | 0.938         |\n",
    "| Наивн. Байес | 0.903    | 0.857  | 0.878     | 0.894         |\n",
    "| Случ. лес    | 0.947    | 0.880  | 0.974     | 0.933         |\n",
    "\n",
    "Как можно увидеть по сравнению оценок моделей, наилучшие результаты показал метод SVM. Наихудший результат показан наивным Байесовским классификатором, что обусловлено тем, что данный классификатор лучше работает при независимых друг от друга параметрах. Лучшая достигнутая точность составляет 97.4%, что превосходит результаты 1 л/р, но все еще недостаточно для реального применения.\n"
   ]
  }
 ],
 "metadata": {
  "kernelspec": {
   "display_name": "Python 3",
   "language": "python",
   "name": "python3"
  },
  "language_info": {
   "codemirror_mode": {
    "name": "ipython",
    "version": 3
   },
   "file_extension": ".py",
   "mimetype": "text/x-python",
   "name": "python",
   "nbconvert_exporter": "python",
   "pygments_lexer": "ipython3",
   "version": "3.11.1 (tags/v3.11.1:a7a450f, Dec  6 2022, 19:58:39) [MSC v.1934 64 bit (AMD64)]"
  },
  "orig_nbformat": 4,
  "vscode": {
   "interpreter": {
    "hash": "999a7a36192ef33617f7408090a097317f111ceef3cec296e6063cd12c240190"
   }
  }
 },
 "nbformat": 4,
 "nbformat_minor": 2
}
